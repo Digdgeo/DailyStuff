{
 "cells": [
  {
   "cell_type": "markdown",
   "metadata": {},
   "source": [
    "# Hydroperiod LAST-EBD"
   ]
  },
  {
   "cell_type": "markdown",
   "metadata": {},
   "source": [
    "### Vamos a tratar de calcualr el hidroperiodo en base a una serie de rasters. Hay que ver para cada pixel, cual es la distancia en dias con la escena anterior y la siguiente, su valor será el número de días entre ambas mitades, y al final se sumarán todos los valores en los que haya habido agua"
   ]
  },
  {
   "cell_type": "code",
   "execution_count": 28,
   "metadata": {},
   "outputs": [],
   "source": [
    "import numpy as np\n",
    "from datetime import date"
   ]
  },
  {
   "cell_type": "code",
   "execution_count": 19,
   "metadata": {},
   "outputs": [],
   "source": [
    "escenas = ['20170915l8oli202_34', '20171015l8oli202_34', '20171205l8oli202_34', '20180126l8oli202_34']"
   ]
  },
  {
   "cell_type": "code",
   "execution_count": 27,
   "metadata": {},
   "outputs": [
    {
     "name": "stdout",
     "output_type": "stream",
     "text": [
      "20170915l8oli202_34\n",
      "14\n",
      "20171015l8oli202_34\n",
      "44\n",
      "20171205l8oli202_34\n",
      "95\n",
      "20180126l8oli202_34\n",
      "147\n"
     ]
    }
   ],
   "source": [
    "for i in escenas:\n",
    "    print(i)\n",
    "    escenaF = [int(i[:4]), int(i[4:6]), int(i[6:8])]\n",
    "    #print(escenaF)\n",
    "    d1 = date(escenaF[0], escenaF[1], escenaF[2])\n",
    "    \n",
    "    delta = d1 - d0\n",
    "    print(delta.days)"
   ]
  },
  {
   "cell_type": "code",
   "execution_count": null,
   "metadata": {},
   "outputs": [],
   "source": []
  }
 ],
 "metadata": {
  "kernelspec": {
   "display_name": "Python 3",
   "language": "python",
   "name": "python3"
  },
  "language_info": {
   "codemirror_mode": {
    "name": "ipython",
    "version": 3
   },
   "file_extension": ".py",
   "mimetype": "text/x-python",
   "name": "python",
   "nbconvert_exporter": "python",
   "pygments_lexer": "ipython3",
   "version": "3.6.6"
  }
 },
 "nbformat": 4,
 "nbformat_minor": 2
}
